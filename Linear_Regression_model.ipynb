{
 "cells": [
  {
   "cell_type": "code",
   "execution_count": 113,
   "metadata": {
    "collapsed": false
   },
   "outputs": [
    {
     "name": "stdout",
     "output_type": "stream",
     "text": [
      "                       Drink  Year  Month  Winner  Prediction\n",
      "32    Lipton Brisk Iced Tea   2018      3       0           0\n",
      "33  Nesquik Strawberry Milk   2018      3       1           1\n",
      "34  Juicy Juice Berry Cherry  2018      3       0           0\n",
      "35             Fresca Peach   2018      3       0           0\n"
     ]
    },
    {
     "name": "stderr",
     "output_type": "stream",
     "text": [
      "C:\\Users\\Grego\\Anaconda2\\envs\\TensorFlow\\lib\\site-packages\\ipykernel_launcher.py:30: SettingWithCopyWarning: \n",
      "A value is trying to be set on a copy of a slice from a DataFrame.\n",
      "Try using .loc[row_indexer,col_indexer] = value instead\n",
      "\n",
      "See the caveats in the documentation: http://pandas.pydata.org/pandas-docs/stable/indexing.html#indexing-view-versus-copy\n",
      "C:\\Users\\Grego\\Anaconda2\\envs\\TensorFlow\\lib\\site-packages\\ipykernel_launcher.py:32: SettingWithCopyWarning: \n",
      "A value is trying to be set on a copy of a slice from a DataFrame.\n",
      "Try using .loc[row_indexer,col_indexer] = value instead\n",
      "\n",
      "See the caveats in the documentation: http://pandas.pydata.org/pandas-docs/stable/indexing.html#indexing-view-versus-copy\n"
     ]
    }
   ],
   "source": [
    "import pandas as pd\n",
    "import numpy as np\n",
    "from sklearn.linear_model import LinearRegression\n",
    "\n",
    "#takes the highest prediction and turns it to the winner\n",
    "def winner(row):\n",
    "    if row['Prediction'] == Y_test['Prediction'].max():\n",
    "        return 1\n",
    "    else:\n",
    "        return 0\n",
    "    \n",
    "\n",
    "df = pd.read_csv(\"Drink_Survey.csv\")\n",
    "train = df.loc[:(len(df)-5)] #train is everything but the current drink selection\n",
    "test = df.loc[(len(df)-4):] #test is the current drink selection\n",
    "\n",
    "X_train = train.drop(['Year','Month', 'Drink', 'Winner'], axis =1) #training feature columns\n",
    "Y_train = train['Winner'] #answer key\n",
    "\n",
    "X_test = test.drop(['Year','Month', 'Drink', 'Winner'], axis =1) #prediction feature columns\n",
    "Y_test = test[['Drink',\"Year\",\"Month\",\"Winner\"]] #Answers\n",
    "#in the future we wont have the Winner column\n",
    "\n",
    "#build model\n",
    "model = LinearRegression()\n",
    "#train model\n",
    "model = model.fit(X_train, Y_train)\n",
    "\n",
    "#make predictions based off of feature columns\n",
    "Y_test['Prediction'] = model.predict(X_test)\n",
    "#find the winner\n",
    "Y_test['Prediction'] = Y_test.apply(winner, axis = 1)\n",
    "\n",
    "print(Y_test)"
   ]
  }
 ],
 "metadata": {
  "kernelspec": {
   "display_name": "Sloth",
   "language": "python",
   "name": "sloth"
  },
  "language_info": {
   "codemirror_mode": {
    "name": "ipython",
    "version": 3
   },
   "file_extension": ".py",
   "mimetype": "text/x-python",
   "name": "python",
   "nbconvert_exporter": "python",
   "pygments_lexer": "ipython3",
   "version": "3.5.3"
  }
 },
 "nbformat": 4,
 "nbformat_minor": 2
}
